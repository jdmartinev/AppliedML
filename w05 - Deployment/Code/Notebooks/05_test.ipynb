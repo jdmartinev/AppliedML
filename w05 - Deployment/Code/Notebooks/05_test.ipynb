{
  "nbformat": 4,
  "nbformat_minor": 0,
  "metadata": {
    "colab": {
      "provenance": []
    },
    "kernelspec": {
      "name": "python3",
      "display_name": "Python 3"
    },
    "language_info": {
      "name": "python"
    }
  },
  "cells": [
    {
      "cell_type": "code",
      "execution_count": null,
      "metadata": {
        "id": "M3uUolgXZDW9",
        "colab": {
          "base_uri": "https://localhost:8080/"
        },
        "outputId": "2e5832d1-0c86-4f74-cd66-bb6ba547a863"
      },
      "outputs": [
        {
          "output_type": "stream",
          "name": "stdout",
          "text": [
            "Drive already mounted at /content/drive; to attempt to forcibly remount, call drive.mount(\"/content/drive\", force_remount=True).\n"
          ]
        }
      ],
      "source": [
        "from google.colab import drive\n",
        "drive.mount('/content/drive')"
      ]
    },
    {
      "cell_type": "code",
      "source": [
        "cd '/content/drive/MyDrive/Courses/ML2022/M05'"
      ],
      "metadata": {
        "colab": {
          "base_uri": "https://localhost:8080/"
        },
        "id": "xU5WtY__ZPJx",
        "outputId": "97ed645f-9d24-4ad2-ba6e-1c82afb4d239"
      },
      "execution_count": null,
      "outputs": [
        {
          "output_type": "stream",
          "name": "stdout",
          "text": [
            "/content/drive/MyDrive/Courses/ML2022/M05\n"
          ]
        }
      ]
    },
    {
      "cell_type": "code",
      "source": [
        "import pickle\n",
        "import json\n",
        "from sklearn.linear_model import LogisticRegression"
      ],
      "metadata": {
        "id": "PZ0jKIw9ZS1Q"
      },
      "execution_count": null,
      "outputs": []
    },
    {
      "cell_type": "code",
      "source": [
        "model_file = 'model_C=1.0.bin'"
      ],
      "metadata": {
        "id": "y5oghUmlZUq5"
      },
      "execution_count": null,
      "outputs": []
    },
    {
      "cell_type": "code",
      "source": [
        "with open(model_file, 'rb') as f_in:\n",
        "    dv, model = pickle.load(f_in)\n",
        "  "
      ],
      "metadata": {
        "id": "L-h0GB2vZzmM"
      },
      "execution_count": null,
      "outputs": []
    },
    {
      "cell_type": "code",
      "source": [
        "def predict_single(customer, dv, model):\n",
        "    X = dv.transform([customer])\n",
        "    y_pred = model.predict_proba(X)[:, 1]\n",
        "    return y_pred[0]"
      ],
      "metadata": {
        "id": "Aq23ogS_bBZg"
      },
      "execution_count": null,
      "outputs": []
    },
    {
      "cell_type": "code",
      "source": [
        "customer = {\n",
        "    'customerid': '8879-zkjof',\n",
        "    'gender': 'female',\n",
        "    'seniorcitizen': 0,\n",
        "    'partner': 'no',\n",
        "    'dependents': 'no',\n",
        "    'tenure': 41,\n",
        "    'phoneservice': 'yes',\n",
        "    'multiplelines': 'no',\n",
        "    'internetservice': 'dsl',\n",
        "    'onlinesecurity': 'yes',\n",
        "    'onlinebackup': 'no',\n",
        "    'deviceprotection': 'yes',\n",
        "    'techsupport': 'yes',\n",
        "    'streamingtv': 'yes',\n",
        "    'streamingmovies': 'yes',\n",
        "    'contract': 'one_year',\n",
        "    'paperlessbilling': 'yes',\n",
        "    'paymentmethod': 'bank_transfer_(automatic)',\n",
        "    'monthlycharges': 79.85,\n",
        "    'totalcharges': 3320.75\n",
        "}"
      ],
      "metadata": {
        "id": "BB3bX2cfa_qx"
      },
      "execution_count": null,
      "outputs": []
    },
    {
      "cell_type": "code",
      "source": [
        "predict_single(customer, dv, model)"
      ],
      "metadata": {
        "colab": {
          "base_uri": "https://localhost:8080/"
        },
        "id": "oqKj-XZ6bUa9",
        "outputId": "c5f209f0-273b-446a-d8f9-64dcea39325f"
      },
      "execution_count": null,
      "outputs": [
        {
          "output_type": "execute_result",
          "data": {
            "text/plain": [
              "0.06224295541712798"
            ]
          },
          "metadata": {},
          "execution_count": 8
        }
      ]
    },
    {
      "cell_type": "code",
      "source": [
        "model"
      ],
      "metadata": {
        "colab": {
          "base_uri": "https://localhost:8080/"
        },
        "id": "bY8Ft9qNbZpW",
        "outputId": "ea5efe32-af49-4c78-9895-908e81a356c3"
      },
      "execution_count": null,
      "outputs": [
        {
          "output_type": "execute_result",
          "data": {
            "text/plain": [
              "LogisticRegression(max_iter=1000)"
            ]
          },
          "metadata": {},
          "execution_count": 9
        }
      ]
    },
    {
      "cell_type": "code",
      "source": [
        "\n",
        "with open('customer.json', 'w') as fp:\n",
        "    json.dump(customer, fp)"
      ],
      "metadata": {
        "id": "KsJ_jmaB1LNM"
      },
      "execution_count": null,
      "outputs": []
    }
  ]
}